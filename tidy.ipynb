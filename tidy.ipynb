{
 "cells": [
  {
   "cell_type": "markdown",
   "metadata": {},
   "source": [
    "###  MRET xlsx to Tidy Data\n",
    "\n",
    "Take the Trade in goods MRETS (all BOP - EU2013): time series dataset and convert to Tidy Data in CSV."
   ]
  },
  {
   "cell_type": "markdown",
   "metadata": {},
   "source": [
    "Fetch and cache the latest published MRETS data as an Excel spreadsheet (single sheet)."
   ]
  },
  {
   "cell_type": "code",
   "execution_count": 5,
   "metadata": {},
   "outputs": [
    {
     "ename": "ModuleNotFoundError",
     "evalue": "No module named 'cachecontrol'",
     "output_type": "error",
     "traceback": [
      "\u001b[0;31m---------------------------------------------------------------------------\u001b[0m",
      "\u001b[0;31mModuleNotFoundError\u001b[0m                       Traceback (most recent call last)",
      "\u001b[0;32m<ipython-input-5-5145cde40450>\u001b[0m in \u001b[0;36m<module>\u001b[0;34m()\u001b[0m\n\u001b[1;32m      2\u001b[0m \u001b[0;32mfrom\u001b[0m \u001b[0mpathlib\u001b[0m \u001b[0;32mimport\u001b[0m \u001b[0mPath\u001b[0m\u001b[0;34m\u001b[0m\u001b[0m\n\u001b[1;32m      3\u001b[0m \u001b[0;32mfrom\u001b[0m \u001b[0mio\u001b[0m \u001b[0;32mimport\u001b[0m \u001b[0mBytesIO\u001b[0m\u001b[0;34m\u001b[0m\u001b[0m\n\u001b[0;32m----> 4\u001b[0;31m \u001b[0;32mfrom\u001b[0m \u001b[0mcachecontrol\u001b[0m \u001b[0;32mimport\u001b[0m \u001b[0mCacheControl\u001b[0m\u001b[0;34m\u001b[0m\u001b[0m\n\u001b[0m\u001b[1;32m      5\u001b[0m \u001b[0;32mfrom\u001b[0m \u001b[0mcachecontrol\u001b[0m\u001b[0;34m.\u001b[0m\u001b[0mcaches\u001b[0m\u001b[0;34m.\u001b[0m\u001b[0mfile_cache\u001b[0m \u001b[0;32mimport\u001b[0m \u001b[0mFileCache\u001b[0m\u001b[0;34m\u001b[0m\u001b[0m\n\u001b[1;32m      6\u001b[0m \u001b[0;32mfrom\u001b[0m \u001b[0mcachecontrol\u001b[0m\u001b[0;34m.\u001b[0m\u001b[0mheuristics\u001b[0m \u001b[0;32mimport\u001b[0m \u001b[0mLastModified\u001b[0m\u001b[0;34m\u001b[0m\u001b[0m\n",
      "\u001b[0;31mModuleNotFoundError\u001b[0m: No module named 'cachecontrol'"
     ]
    }
   ],
   "source": [
    "import requests\n",
    "from pathlib import Path\n",
    "from io import BytesIO\n",
    "from cachecontrol import CacheControl\n",
    "from cachecontrol.caches.file_cache import FileCache\n",
    "from cachecontrol.heuristics import LastModified\n",
    "\n",
    "session = CacheControl(requests.Session(),\n",
    "                       cache=FileCache('.cache'),\n",
    "                       heuristic=LastModified())\n",
    "\n",
    "inputURL = 'https://www.ons.gov.uk/file?uri=/economy/nationalaccounts/balanceofpayments/datasets/tradeingoodsmretsallbopeu2013timeseriesspreadsheet/current/mret.xlsx'\n",
    "mretsExcel = BytesIO(session.get(inputURL).content)"
   ]
  },
  {
   "cell_type": "markdown",
   "metadata": {},
   "source": [
    "Read in the spreadsheet as a table, naming the columns after the CDID (second row)."
   ]
  },
  {
   "cell_type": "code",
   "execution_count": null,
   "metadata": {},
   "outputs": [],
   "source": [
    "import pandas as pd\n",
    "tab = pd.read_excel(mretsExcel, header=None, na_values=[], keep_default_na=False)\n",
    "tab.rename(columns=tab.iloc[1], inplace=True)\n",
    "tab.rename(columns={'CDID': 'Period'}, inplace=True)\n",
    "tab"
   ]
  },
  {
   "cell_type": "markdown",
   "metadata": {},
   "source": [
    "Pull out the release date of this dataset, which should be the same for all the time series."
   ]
  },
  {
   "cell_type": "code",
   "execution_count": null,
   "metadata": {},
   "outputs": [],
   "source": [
    "import datetime\n",
    "import pytz\n",
    "\n",
    "release_dates = tab.loc[4][1:].unique()\n",
    "assert len(release_dates) == 1\n",
    "release_date = pd.to_datetime(release_dates[0], dayfirst=True).tz_localize('Europe/London').isoformat()\n",
    "release_date"
   ]
  },
  {
   "cell_type": "markdown",
   "metadata": {},
   "source": [
    "The observations are in rows 7 on."
   ]
  },
  {
   "cell_type": "code",
   "execution_count": null,
   "metadata": {},
   "outputs": [],
   "source": [
    "observations = tab[7:].rename(columns={'CDID': 'Period'})\n",
    "observations.head()"
   ]
  },
  {
   "cell_type": "markdown",
   "metadata": {},
   "source": [
    "Each CDID corresponds to a unique time-series slice. Unpivot the table so we have one row per observation and drop any rows with no value for the observation."
   ]
  },
  {
   "cell_type": "code",
   "execution_count": null,
   "metadata": {},
   "outputs": [],
   "source": [
    "observations = pd.melt(observations, id_vars=['Period'], var_name='CDID', value_name='Value')\n",
    "observations['Value'] = pd.to_numeric(observations['Value'])\n",
    "observations.dropna(inplace=True)\n",
    "observations['Value'] = observations['Value'].astype('int64')\n",
    "observations.reset_index(drop=True, inplace=True)\n",
    "print(len(observations))\n",
    "observations.tail(5)"
   ]
  },
  {
   "cell_type": "markdown",
   "metadata": {},
   "source": [
    "Each CDID is described by a colon separated title, so add these back in to describe the observations."
   ]
  },
  {
   "cell_type": "code",
   "execution_count": null,
   "metadata": {},
   "outputs": [],
   "source": [
    "observations['Title'] = tab.iloc[0][observations['CDID']].values\n",
    "observations.head()"
   ]
  },
  {
   "cell_type": "markdown",
   "metadata": {},
   "source": [
    "The date/time values need to be in a format that can be used to create URIs for British calendar intervals,\n",
    "see https://github.com/epimorphics/IntervalServer/blob/master/interval-uris.md#british-calendar-intervals"
   ]
  },
  {
   "cell_type": "code",
   "execution_count": null,
   "metadata": {},
   "outputs": [],
   "source": [
    "observations['Period'].unique()"
   ]
  },
  {
   "cell_type": "code",
   "execution_count": null,
   "metadata": {
    "scrolled": true
   },
   "outputs": [],
   "source": [
    "import re\n",
    "YEAR_RE = re.compile(r'[0-9]{4}')\n",
    "YEAR_MONTH_RE = re.compile(r'([0-9]{4})\\s+(JAN|FEB|MAR|APR|MAY|JUN|JUL|AUG|SEP|OCT|NOV|DEC)')\n",
    "YEAR_QUARTER_RE = re.compile(r'([0-9]{4})\\s+(Q[1-4])')\n",
    "\n",
    "# from https://stackoverflow.com/questions/597476/how-to-concisely-cascade-through-multiple-regex-statements-in-python\n",
    "class Re(object):\n",
    "  def __init__(self):\n",
    "    self.last_match = None\n",
    "  def fullmatch(self,pattern,text):\n",
    "    self.last_match = re.fullmatch(pattern,text)\n",
    "    return self.last_match\n",
    "\n",
    "def time2period(t):\n",
    "    gre = Re()\n",
    "    if gre.fullmatch(YEAR_RE, t):\n",
    "        return f\"year/{t}\"\n",
    "    elif gre.fullmatch(YEAR_MONTH_RE, t):\n",
    "        year, month = gre.last_match.groups()\n",
    "        month_num = {'JAN': '01', 'FEB': '02', 'MAR': '03', 'APR': '04', 'MAY': '05', 'JUN': '06',\n",
    "                     'JUL': '07', 'AUG': '08', 'SEP': '09', 'OCT': '10', 'NOV': '11', 'DEC': '12'}.get(month)\n",
    "        return f\"month/{year}-{month_num}\"\n",
    "    elif gre.fullmatch(YEAR_QUARTER_RE, t):\n",
    "        year, quarter = gre.last_match.groups()\n",
    "        return f\"quarter/{year}-{quarter}\"\n",
    "    else:\n",
    "        print(f\"no match for {t}\")\n",
    "\n",
    "observations['Period'] = observations['Period'].apply(time2period)\n",
    "observations"
   ]
  },
  {
   "cell_type": "markdown",
   "metadata": {},
   "source": [
    "CDID is an arbitrary/opaque 4 letter code registered by ONS and corresponds to a timeseries slice, so each CDID provides the value of a list of dimensions. These codes are also elaborated on in separate spreadsheets currently in Google Drive."
   ]
  },
  {
   "cell_type": "code",
   "execution_count": null,
   "metadata": {},
   "outputs": [],
   "source": [
    "from IPython.display import display, HTML\n",
    "cord_sitc_classification_table_url = 'https://drive.google.com/uc?export=download&id=1uJck_DtSgLs0XcEuKDB0swzj1UrWmauj'\n",
    "cord_sitc_classification_table = BytesIO(session.get(cord_sitc_classification_table_url).content)\n",
    "cord_sitc_table = pd.read_excel(cord_sitc_classification_table,\n",
    "                                sheet_name=0, usecols=\"D:K\", index_col=0, skip_footer=1,\n",
    "                                na_values=[], keep_default_na=False,\n",
    "                                dtype={'COMMODITY': str, 'AREA': str, 'DIRECTION': str, 'BASIS': str,\n",
    "                                       'PRICE': str, 'SEASADJ': str, 'PERIOD': str})\n",
    "display(HTML('<b>CORD SITC Classification table</b>'))\n",
    "display(cord_sitc_table.head())"
   ]
  },
  {
   "cell_type": "code",
   "execution_count": null,
   "metadata": {},
   "outputs": [],
   "source": [
    "csdb_classification_tables_url = 'https://drive.google.com/uc?export=download&id=1miAzQ6s8om4Ark3BpRk3Y90OAWfWErTb'\n",
    "csdb_classification_table = BytesIO(session.get(csdb_classification_tables_url).content)\n",
    "csdb_sheets = pd.read_excel(csdb_classification_table, sheet_name=None, index_col=0,\n",
    "                            na_values=[], keep_default_na=False,\n",
    "                            dtype={'COMMODITY': str, 'AREA': str, 'DIRECTION': str, 'BASIS': str,\n",
    "                                   'PRICE': str, 'SEASADJ': str, 'PERIOD': str, 'PRODUCT': str,\n",
    "                                   'COUNTRY': str})\n",
    "for (sheet, df) in csdb_sheets.items():\n",
    "    display(HTML('<b>' + sheet + '</b>'))\n",
    "    display(df.head())"
   ]
  },
  {
   "cell_type": "markdown",
   "metadata": {},
   "source": [
    "The cord_country tab doesn't define product/commodity or price classification. Assume that commodity is 'T' for total and the price is CP for 'current prices'.\n",
    "\n",
    "__Todo: check this assumption__"
   ]
  },
  {
   "cell_type": "code",
   "execution_count": null,
   "metadata": {},
   "outputs": [],
   "source": [
    "csdb_sheets['cord_country']['COMMODITY'] = 'T'\n",
    "csdb_sheets['cord_country']['PRICE'] = 'CP'"
   ]
  },
  {
   "cell_type": "markdown",
   "metadata": {},
   "source": [
    "It looks as though the `cord_sitc_table` is the same as the `cord_sitc` sheet loaded above."
   ]
  },
  {
   "cell_type": "code",
   "execution_count": null,
   "metadata": {},
   "outputs": [],
   "source": [
    "different_cdids = set(cord_sitc_table.index.values).symmetric_difference(set(csdb_sheets['cord_sitc'].index.values))\n",
    "display(different_cdids)\n",
    "cord_sitc_table.sort_index().eq(csdb_sheets['cord_sitc'].sort_index())"
   ]
  },
  {
   "cell_type": "markdown",
   "metadata": {},
   "source": [
    "Apparently not. Let's use `csdb_sheets` for now. __TODO: need to check whether the CDID period length matches the MRETS period length.__\n",
    "\n",
    "Next we have another table of CDIDs not listed in the above:"
   ]
  },
  {
   "cell_type": "code",
   "execution_count": null,
   "metadata": {},
   "outputs": [],
   "source": [
    "codelist_url = 'https://drive.google.com/uc?export=download&id=161OtInylx2518gmhRu7UgUYnZZ_x9FQr'\n",
    "codelist = pd.read_csv(BytesIO(session.get(codelist_url).content), index_col=0,\n",
    "                       na_values=[], keep_default_na=False,\n",
    "                       dtype={'AREA': str, 'DIRECTION': str, 'BASIS': str,\n",
    "                              'PRICE': str, 'SEASADJ': str, 'PERIOD': str},\n",
    "                       converters={'COMMODITY': lambda x: str(x).strip()})\n",
    "codelist"
   ]
  },
  {
   "cell_type": "markdown",
   "metadata": {},
   "source": [
    "This (above) list seems to be missing some values. E.g. looking up `BOQM` on https://www.ons.gov.uk/timeseriestool finds `BOP:Exports:Tons:SA:Crude oil: SITC 333`.\n",
    "\n",
    "Check that all CDIDs used in MRETS are defined in these tables."
   ]
  },
  {
   "cell_type": "code",
   "execution_count": null,
   "metadata": {},
   "outputs": [],
   "source": [
    "all_cdids = pd.concat(list(csdb_sheets.values()) + [codelist])\n",
    "display(all_cdids)\n",
    "defined_cdids = set(all_cdids.index.values)\n",
    "remaining = set(observations['CDID'].unique()).difference(defined_cdids)  \n",
    "assert not remaining, 'Not all CDIDs defined: ' + str(remaining)"
   ]
  },
  {
   "cell_type": "markdown",
   "metadata": {},
   "source": [
    "Inspect the unique values for these dimensions."
   ]
  },
  {
   "cell_type": "code",
   "execution_count": null,
   "metadata": {},
   "outputs": [],
   "source": [
    "for col in all_cdids:\n",
    "    display(HTML('<b>' + col + '</b>'))\n",
    "    display(all_cdids[col].unique())"
   ]
  },
  {
   "cell_type": "markdown",
   "metadata": {},
   "source": [
    "__TODO: Still not sure what to make of the titles provided for the CDIDs in the MRETS table.__\n",
    "\n",
    "__TODO: PERIOD doesn't seem to correspond to usage.__"
   ]
  },
  {
   "cell_type": "code",
   "execution_count": null,
   "metadata": {
    "scrolled": false
   },
   "outputs": [],
   "source": [
    "bop_series = all_cdids[all_cdids['BASIS'] == 'BOP'].copy()\n",
    "def area_country(row):\n",
    "    if pd.isnull(row['AREA']) or row['AREA'] == '':\n",
    "        if pd.isnull(row['COUNTRY']) or row['COUNTRY'] == '':\n",
    "            return None\n",
    "        assert row['COUNTRY'] != ''\n",
    "        return 'cord/' + row['COUNTRY']\n",
    "    else:\n",
    "        assert pd.isnull(row['COUNTRY']) or row['COUNTRY'] == ''\n",
    "        return 'legacy/' + row['AREA']\n",
    "\n",
    "bop_series['ONS Partner Geography'] = bop_series.apply(area_country, axis=1)\n",
    "\n",
    "def product_commodity(row):\n",
    "    if pd.isnull(row['PRODUCT']) or row['PRODUCT'] == '':\n",
    "        if pd.isnull(row['COMMODITY']) or row['COMMODITY'] == '':\n",
    "            return None\n",
    "        assert not pd.isnull(row['COMMODITY']) and row['COMMODITY'] != ''\n",
    "        return row['COMMODITY']\n",
    "    else:\n",
    "        assert pd.isnull(row['COMMODITY']) or row['COMMODITY'] == ''\n",
    "        return row['PRODUCT']\n",
    "\n",
    "bop_series['CORD SITC'] = bop_series.apply(product_commodity, axis=1)\n",
    "\n",
    "bop_series.drop(columns=['PERIOD', 'AREA', 'COUNTRY', 'PRODUCT', 'COMMODITY', 'BASIS'], inplace=True)\n",
    "bop_series.rename(columns={'DIRECTION': 'Flow',\n",
    "                           'PRICE': 'Price Classification',\n",
    "                           'SEASADJ': 'Seasonal Adjustment'}, inplace=True)\n",
    "bop_series.replace({'Flow': {'BAL': 'Balance', 'IM': 'Imports', 'EX': 'Exports'}}, inplace=True)\n",
    "bop_series['Measure Type'] = 'GBP Total'\n",
    "bop_series['Unit'] = '£ Million'\n",
    "\n",
    "bop_observations = observations[observations['CDID'].isin(bop_series.index.values)]\n",
    "bop_observations = bop_observations.merge(bop_series, how = 'left', left_on = 'CDID', right_index=True)\n",
    "bop_observations.drop(columns=['Title'], inplace=True)\n",
    "bop_observations.dropna(how='any', inplace=True)\n",
    "bop_observations"
   ]
  },
  {
   "cell_type": "code",
   "execution_count": null,
   "metadata": {},
   "outputs": [],
   "source": [
    "destinationFolder = Path('out')\n",
    "destinationFolder.mkdir(exist_ok=True, parents=True)\n",
    "\n",
    "bop_observations.to_csv(destinationFolder / ('bop_observations.csv'), index = False)"
   ]
  },
  {
   "cell_type": "markdown",
   "metadata": {},
   "source": [
    "Update dataset metadata"
   ]
  },
  {
   "cell_type": "code",
   "execution_count": null,
   "metadata": {},
   "outputs": [],
   "source": [
    "modified_date = pd.to_datetime('now').tz_localize('Europe/London').isoformat()\n",
    "\n",
    "from string import Template\n",
    "with open(Path('metadata') / 'dataset.trig.template', 'r') as metadata_template_file:\n",
    "    metadata_template = Template(metadata_template_file.read())\n",
    "    with open(destinationFolder / 'dataset.trig', 'w') as metadata_file:\n",
    "        metadata_file.write(metadata_template.substitute(issued=release_date, modified=modified_date))"
   ]
  },
  {
   "cell_type": "code",
   "execution_count": null,
   "metadata": {},
   "outputs": [],
   "source": []
  }
 ],
 "metadata": {
  "kernelspec": {
   "display_name": "Python 3",
   "language": "python",
   "name": "python3"
  },
  "language_info": {
   "codemirror_mode": {
    "name": "ipython",
    "version": 3
   },
   "file_extension": ".py",
   "mimetype": "text/x-python",
   "name": "python",
   "nbconvert_exporter": "python",
   "pygments_lexer": "ipython3",
   "version": "3.6.5"
  }
 },
 "nbformat": 4,
 "nbformat_minor": 2
}
